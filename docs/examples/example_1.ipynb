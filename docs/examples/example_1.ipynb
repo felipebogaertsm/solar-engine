{
  "cells": [
    {
      "cell_type": "markdown",
      "metadata": {},
      "source": [
        "# Example 1\n",
        "## AutoSolar\n",
        "### Author: Felipe Bogaerts de Mattos\n",
        "### Email: me@felipebm.com\n",
        "\n",
        "All input values must be in STC and in standard metric units. "
      ]
    },
    {
      "cell_type": "code",
      "execution_count": 1,
      "metadata": {},
      "outputs": [],
      "source": [
        "import os\n",
        "\n",
        "if not ('solarengine') in os.getcwd():\n",
        "    os.chdir('../../')"
      ]
    },
    {
      "cell_type": "code",
      "execution_count": 2,
      "metadata": {},
      "outputs": [
        {
          "name": "stdout",
          "output_type": "stream",
          "text": [
            "Module 410.0Wp\n",
            "Inverter 7.9kW\n"
          ]
        }
      ],
      "source": [
        "from solarengine.modeler.generic import PhysicalProperties\n",
        "from solarengine.modeler.inverter import Inverter\n",
        "from solarengine.modeler.module import Module\n",
        "from solarengine.modeler.plant import PowerPlant\n",
        "\n",
        "# Defining PV module:\n",
        "module = Module(\n",
        "    p_nominal=410,  # in Wp,\n",
        "    v_oc=50.0,\n",
        "    i_sc=10.25,\n",
        "    v_max=42.6,\n",
        "    i_max=9.63,\n",
        "    ppt=0.37,\n",
        "    efficiency=20.0,\n",
        "    area=2,\n",
        ")\n",
        "\n",
        "# Defining inverter:\n",
        "inverter = Inverter(\n",
        "    category=\"central\",\n",
        "    v_dc_max=1000,\n",
        "    voltage_range_mppt=\"270-800 V\",\n",
        "    p_dc_max_input=12300,\n",
        "    v_dc_start=420,\n",
        "    i_dc_max=36,\n",
        "    string_count=2,\n",
        "    p_max=8200,\n",
        "    i_ac_max=34.2,\n",
        "    p_ac_nom=7900,\n",
        "    v_ac_nom=220,\n",
        "    freq=60,\n",
        "    efficiency_mppt=0.99,\n",
        "    efficiency_max=0.99,\n",
        "    physical_properties=PhysicalProperties(\n",
        "        weight=21.5, width=429, height=627, depth=206\n",
        "    ),\n",
        ")\n",
        "\n",
        "print(module)\n",
        "print(inverter)"
      ]
    },
    {
      "cell_type": "code",
      "execution_count": 3,
      "metadata": {},
      "outputs": [
        {
          "name": "stdout",
          "output_type": "stream",
          "text": [
            "[String 10 x Module 410.0Wp @ Inverter 7.9kW, String 11 x Module 410.0Wp @ Inverter 7.9kW]\n"
          ]
        }
      ],
      "source": [
        "power_plant = PowerPlant(\n",
        "    module=module,\n",
        "    module_count=21,\n",
        "    inverters=[inverter],\n",
        "    inverter_count=[1],\n",
        "    din_padrao=60,\n",
        "    coordinates=[-23.5505, -46.6333],\n",
        "    inv_boolean=0, \n",
        ")\n",
        "\n",
        "pv_strings = power_plant.pv_strings\n",
        "\n",
        "print(pv_strings)"
      ]
    },
    {
      "cell_type": "code",
      "execution_count": null,
      "metadata": {},
      "outputs": [],
      "source": []
    },
    {
      "cell_type": "code",
      "execution_count": null,
      "metadata": {},
      "outputs": [],
      "source": []
    },
    {
      "cell_type": "code",
      "execution_count": null,
      "metadata": {},
      "outputs": [],
      "source": []
    },
    {
      "cell_type": "code",
      "execution_count": null,
      "metadata": {},
      "outputs": [],
      "source": []
    }
  ],
  "metadata": {
    "kernelspec": {
      "display_name": "Python 3",
      "language": "python",
      "name": "python3"
    },
    "language_info": {
      "codemirror_mode": {
        "name": "ipython",
        "version": 3
      },
      "file_extension": ".py",
      "mimetype": "text/x-python",
      "name": "python",
      "nbconvert_exporter": "python",
      "pygments_lexer": "ipython3",
      "version": "3.10.6"
    },
    "vscode": {
      "interpreter": {
        "hash": "a0a5145e6c304e2a9afaf5b930a2955b950bd4b81fe94f7c42930f43f42762eb"
      }
    }
  },
  "nbformat": 4,
  "nbformat_minor": 2
}
