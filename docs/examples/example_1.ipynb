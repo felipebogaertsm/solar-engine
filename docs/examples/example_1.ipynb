{
  "cells": [
    {
      "cell_type": "markdown",
      "metadata": {},
      "source": [
        "# Example 1\n",
        "## AutoSolar\n",
        "### Author: Felipe Bogaerts de Mattos\n",
        "### Email: me@felipebm.com\n",
        "\n",
        "All input values must be in STC and in standard metric units. "
      ]
    },
    {
      "cell_type": "code",
      "execution_count": 9,
      "metadata": {},
      "outputs": [],
      "source": [
        "import os\n",
        "\n",
        "if not ('solarengine') in os.getcwd():\n",
        "    os.chdir('../../solarengine')"
      ]
    },
    {
      "cell_type": "code",
      "execution_count": 10,
      "metadata": {},
      "outputs": [
        {
          "ename": "TypeError",
          "evalue": "Module.__init__() got an unexpected keyword argument 'model'",
          "output_type": "error",
          "traceback": [
            "\u001b[0;31m---------------------------------------------------------------------------\u001b[0m",
            "\u001b[0;31mTypeError\u001b[0m                                 Traceback (most recent call last)",
            "Cell \u001b[0;32mIn[10], line 5\u001b[0m\n\u001b[1;32m      2\u001b[0m \u001b[39mfrom\u001b[39;00m \u001b[39mmodeler\u001b[39;00m\u001b[39m.\u001b[39;00m\u001b[39minverter\u001b[39;00m \u001b[39mimport\u001b[39;00m Inverter\n\u001b[1;32m      4\u001b[0m \u001b[39m# Defining PV module:\u001b[39;00m\n\u001b[0;32m----> 5\u001b[0m module \u001b[39m=\u001b[39m Module(\n\u001b[1;32m      6\u001b[0m     brand\u001b[39m=\u001b[39;49m\u001b[39m'\u001b[39;49m\u001b[39mTrina Solar\u001b[39;49m\u001b[39m'\u001b[39;49m,\n\u001b[1;32m      7\u001b[0m     model\u001b[39m=\u001b[39;49m\u001b[39m'\u001b[39;49m\u001b[39mTSM-410\u001b[39;49m\u001b[39m'\u001b[39;49m,\n\u001b[1;32m      8\u001b[0m     p_nominal\u001b[39m=\u001b[39;49m\u001b[39m410\u001b[39;49m,  \u001b[39m# in Wp,\u001b[39;49;00m\n\u001b[1;32m      9\u001b[0m     v_oc\u001b[39m=\u001b[39;49m\u001b[39m50.0\u001b[39;49m,\n\u001b[1;32m     10\u001b[0m     i_sc\u001b[39m=\u001b[39;49m\u001b[39m10.25\u001b[39;49m,\n\u001b[1;32m     11\u001b[0m     v_max\u001b[39m=\u001b[39;49m\u001b[39m42.6\u001b[39;49m,\n\u001b[1;32m     12\u001b[0m     i_max\u001b[39m=\u001b[39;49m\u001b[39m9.63\u001b[39;49m,\n\u001b[1;32m     13\u001b[0m     ppt\u001b[39m=\u001b[39;49m\u001b[39m0.37\u001b[39;49m,\n\u001b[1;32m     14\u001b[0m     efficiency\u001b[39m=\u001b[39;49m\u001b[39m20.0\u001b[39;49m,\n\u001b[1;32m     15\u001b[0m     area\u001b[39m=\u001b[39;49m\u001b[39m2\u001b[39;49m,\n\u001b[1;32m     16\u001b[0m )\n\u001b[1;32m     18\u001b[0m \u001b[39m# Defining inverter:\u001b[39;00m\n\u001b[1;32m     19\u001b[0m inverter \u001b[39m=\u001b[39m Inverter(\n\u001b[1;32m     20\u001b[0m     brand\u001b[39m=\u001b[39m\u001b[39m'\u001b[39m\u001b[39mFronius\u001b[39m\u001b[39m'\u001b[39m,\n\u001b[1;32m     21\u001b[0m     model\u001b[39m=\u001b[39m\u001b[39m'\u001b[39m\u001b[39mPRIMO 5.0-1\u001b[39m\u001b[39m'\u001b[39m,\n\u001b[0;32m   (...)\u001b[0m\n\u001b[1;32m     37\u001b[0m     dimensions\u001b[39m=\u001b[39m\u001b[39m'\u001b[39m\u001b[39m429x627x206\u001b[39m\u001b[39m'\u001b[39m,  \u001b[39m# in mm\u001b[39;00m\n\u001b[1;32m     38\u001b[0m )\n",
            "\u001b[0;31mTypeError\u001b[0m: Module.__init__() got an unexpected keyword argument 'model'"
          ]
        }
      ],
      "source": [
        "from modeler.module import Module\n",
        "from modeler.inverter import Inverter\n",
        "\n",
        "# Defining PV module:\n",
        "module = Module(\n",
        "    p_nominal=410,  # in Wp,\n",
        "    v_oc=50.0,\n",
        "    i_sc=10.25,\n",
        "    v_max=42.6,\n",
        "    i_max=9.63,\n",
        "    ppt=0.37,\n",
        "    efficiency=20.0,\n",
        "    area=2,\n",
        ")\n",
        "\n",
        "# Defining inverter:\n",
        "inverter = Inverter(\n",
        "    brand='Fronius',\n",
        "    model='PRIMO 5.0-1',\n",
        "    category='central',\n",
        "    v_dc_max=1000,\n",
        "    voltage_range_mppt='240-800 V',\n",
        "    p_dc_max_input=7500,\n",
        "    v_dc_start=420,\n",
        "    i_dc_max=36,\n",
        "    string_count=2,\n",
        "    p_max=5000,\n",
        "    i_ac_max=20.8,\n",
        "    p_ac_nom=5000,\n",
        "    v_saida_nom=220,\n",
        "    freq=60,\n",
        "    efficiency_mppt=0.99,\n",
        "    efficiency_max=0.99,\n",
        "    weight=21.5,\n",
        "    dimensions='429x627x206',  # in mm\n",
        ")\n",
        "\n",
        "print(module)\n",
        "print(inverter)"
      ]
    },
    {
      "cell_type": "code",
      "execution_count": null,
      "metadata": {},
      "outputs": [],
      "source": []
    },
    {
      "cell_type": "code",
      "execution_count": null,
      "metadata": {},
      "outputs": [],
      "source": []
    },
    {
      "cell_type": "code",
      "execution_count": null,
      "metadata": {},
      "outputs": [],
      "source": []
    },
    {
      "cell_type": "code",
      "execution_count": null,
      "metadata": {},
      "outputs": [],
      "source": []
    },
    {
      "cell_type": "code",
      "execution_count": null,
      "metadata": {},
      "outputs": [],
      "source": []
    }
  ],
  "metadata": {
    "kernelspec": {
      "display_name": "Python 3",
      "language": "python",
      "name": "python3"
    },
    "language_info": {
      "codemirror_mode": {
        "name": "ipython",
        "version": 3
      },
      "file_extension": ".py",
      "mimetype": "text/x-python",
      "name": "python",
      "nbconvert_exporter": "python",
      "pygments_lexer": "ipython3",
      "version": "3.10.6"
    },
    "vscode": {
      "interpreter": {
        "hash": "a0a5145e6c304e2a9afaf5b930a2955b950bd4b81fe94f7c42930f43f42762eb"
      }
    }
  },
  "nbformat": 4,
  "nbformat_minor": 2
}
