{
  "cells": [
    {
      "cell_type": "markdown",
      "metadata": {},
      "source": [
        "# Example 1\n",
        "## AutoSolar\n",
        "### Author: Felipe Bogaerts de Mattos\n",
        "### Email: me@felipebm.com\n",
        "\n",
        "All input values must be in STC and in standard metric units. "
      ]
    },
    {
      "cell_type": "code",
      "execution_count": 1,
      "metadata": {},
      "outputs": [],
      "source": [
        "import os\n",
        "\n",
        "if not ('solarengine') in os.getcwd():\n",
        "    os.chdir('../../solarengine')"
      ]
    },
    {
      "cell_type": "code",
      "execution_count": 2,
      "metadata": {},
      "outputs": [
        {
          "name": "stdout",
          "output_type": "stream",
          "text": [
            "TSM-410 - Trina Solar - 410.0Wp\n",
            "PRIMO 5.0-1 - Fronius - 5.0kW\n"
          ]
        }
      ],
      "source": [
        "from modeler import Module, Inverter\n",
        "\n",
        "# Defining PV module:\n",
        "module = Module(\n",
        "    brand='Trina Solar',\n",
        "    model='TSM-410',\n",
        "    nominal_power=410,  # in Wp,\n",
        "    v_oc=50.0,\n",
        "    i_sc=10.25,\n",
        "    v_max=42.6,\n",
        "    i_max=9.63,\n",
        "    ppt=0.37,\n",
        "    efficiency=20.0,\n",
        "    area=2,\n",
        ")\n",
        "\n",
        "# Defining inverter:\n",
        "inverter = Inverter(\n",
        "    brand='Fronius',\n",
        "    model='PRIMO 5.0-1',\n",
        "    category='central',\n",
        "    v_dc_max=1000,\n",
        "    voltage_range_mppt='240-800 V',\n",
        "    p_dc_max_input=7500,\n",
        "    v_dc_start=420,\n",
        "    i_dc_max=36,\n",
        "    string_count=2,\n",
        "    p_max=5000,\n",
        "    i_ac_max=20.8,\n",
        "    p_ac_nom=5000,\n",
        "    v_saida_nom=220,\n",
        "    freq=60,\n",
        "    efficiency_mppt=0.99,\n",
        "    efficiency_max=0.99,\n",
        "    weight=21.5,\n",
        "    dimensions='429x627x206',  # in mm\n",
        ")\n",
        "\n",
        "print(module)\n",
        "print(inverter)"
      ]
    },
    {
      "cell_type": "code",
      "execution_count": null,
      "metadata": {},
      "outputs": [],
      "source": []
    },
    {
      "cell_type": "code",
      "execution_count": null,
      "metadata": {},
      "outputs": [],
      "source": []
    },
    {
      "cell_type": "code",
      "execution_count": null,
      "metadata": {},
      "outputs": [],
      "source": []
    },
    {
      "cell_type": "code",
      "execution_count": null,
      "metadata": {},
      "outputs": [],
      "source": []
    },
    {
      "cell_type": "code",
      "execution_count": null,
      "metadata": {},
      "outputs": [],
      "source": []
    }
  ],
  "metadata": {
    "interpreter": {
      "hash": "723df426702d7beb5c48009a7365b10cf2216fc9e42cd75e5e34f23ff87fbbd1"
    },
    "kernelspec": {
      "display_name": "Python 3 (ipykernel)",
      "language": "python",
      "name": "python3"
    },
    "language_info": {
      "codemirror_mode": {
        "name": "ipython",
        "version": 3
      },
      "file_extension": ".py",
      "mimetype": "text/x-python",
      "name": "python",
      "nbconvert_exporter": "python",
      "pygments_lexer": "ipython3",
      "version": "3.10.4"
    }
  },
  "nbformat": 4,
  "nbformat_minor": 2
}
